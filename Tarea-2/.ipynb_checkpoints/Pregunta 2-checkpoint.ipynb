{
 "cells": [
  {
   "cell_type": "markdown",
   "metadata": {},
   "source": [
    "# CNNs en Google Street View\n",
    "\n",
    "\n",
    "En esta seccion, trabajaremos con el dataset SVHN (Street View House Numbers), correspondiente a imagenes naturales de digitos de direcciones obtenidos desde Google Street View. El dataset contiene mas de 600.000 imagenes de entrenamiento y 26.032 im ́agenes de test. Para facilitar la realizaci ́on de experimentos, el dataset de entrenamiento se divide usualmente en un conjunto pequeno de 73.257 imagenes y un conjunto “extra” de 531.131 imagenes. En esta tarea trabajaremos solo con la version pequena. Los valientes pueden verificar que entrenando sobre el conjunto grande los resultados mejoran significativamente.\n",
    "\n",
    "Los datos pueden ser obtenidos (en formato Matlab) ejecutando los siguientes comandos:\n",
    "\n",
    "wget http://ufldl.stanford.edu/housenumbers/train_32x32.mat\n",
    "\n",
    "wget http://ufldl.stanford.edu/housenumbers/extra_32x32.mat\n",
    "\n",
    "wget http://ufldl.stanford.edu/housenumbers/test_32x32.mat\n",
    "\n",
    "### importante:\n",
    "#### Correr dentro de la carpeta \"datos_p_2\", estos son ignorados a la hora de subir al repositorio debido a el alto peso de los archivos.\n",
    "\n",
    "\n",
    "## (a)\n",
    "Cargue los datos de entrenamiento y pruebas (“train 32x32.mat” y “test 32x32.mat”). Determine el tamano de las imagenes, el numero de clases diferentes y de ejemplos en cada categorıa. Finalmente,visualice 5 imagenes de entrenamiento y 5 de test (elegidas aleatoriamente). Comente."
   ]
  },
  {
   "cell_type": "code",
   "execution_count": 6,
   "metadata": {},
   "outputs": [
    {
     "name": "stdout",
     "output_type": "stream",
     "text": [
      "{'y': array([[1],\n",
      "       [9],\n",
      "       [2],\n",
      "       ..., \n",
      "       [1],\n",
      "       [6],\n",
      "       [9]], dtype=uint8), 'X': array([[[[ 33,  84,  19, ...,  92, 190, 216],\n",
      "         [ 30,  76,  54, ...,  78, 188, 217],\n",
      "         [ 38,  59, 110, ..., 101, 191, 212]],\n",
      "\n",
      "        [[ 15,  86,  20, ...,  94, 205, 221],\n",
      "         [ 23,  73,  52, ...,  82, 203, 222],\n",
      "         [ 19,  66, 111, ..., 105, 206, 217]],\n",
      "\n",
      "        [[ 15,  77,  25, ..., 114, 220, 226],\n",
      "         [ 17,  78,  57, ..., 101, 218, 227],\n",
      "         [ 19,  56, 116, ..., 125, 220, 221]],\n",
      "\n",
      "        ..., \n",
      "        [[ 72,  90,  65, ..., 200, 229, 200],\n",
      "         [ 65,  78, 144, ..., 201, 231, 199],\n",
      "         [ 56,  69, 223, ..., 203, 224, 191]],\n",
      "\n",
      "        [[ 82,  88,  78, ..., 192, 229, 193],\n",
      "         [ 77,  77, 148, ..., 193, 229, 188],\n",
      "         [ 57,  67, 218, ..., 195, 224, 182]],\n",
      "\n",
      "        [[ 89,  88,  98, ..., 190, 229, 197],\n",
      "         [ 79,  78, 158, ..., 191, 228, 189],\n",
      "         [ 59,  66, 220, ..., 193, 223, 186]]],\n",
      "\n",
      "\n",
      "       [[[ 28,  85,  21, ...,  92, 183, 204],\n",
      "         [ 39,  77,  53, ...,  78, 182, 205],\n",
      "         [ 35,  61, 110, ..., 103, 186, 202]],\n",
      "\n",
      "        [[ 14,  83,  19, ...,  93, 200, 210],\n",
      "         [ 25,  73,  52, ...,  80, 199, 211],\n",
      "         [ 22,  64, 106, ..., 106, 201, 208]],\n",
      "\n",
      "        [[ 14,  74,  25, ..., 111, 218, 220],\n",
      "         [ 20,  69,  56, ...,  98, 217, 221],\n",
      "         [ 17,  59, 111, ..., 124, 218, 217]],\n",
      "\n",
      "        ..., \n",
      "        [[ 40,  89,  63, ..., 181, 227, 201],\n",
      "         [ 39,  82, 137, ..., 180, 228, 199],\n",
      "         [ 50,  64, 208, ..., 184, 223, 193]],\n",
      "\n",
      "        [[ 67,  88,  91, ..., 177, 227, 195],\n",
      "         [ 58,  79, 153, ..., 176, 226, 191],\n",
      "         [ 52,  70, 214, ..., 180, 222, 186]],\n",
      "\n",
      "        [[ 83,  88, 130, ..., 183, 228, 196],\n",
      "         [ 78,  81, 180, ..., 182, 224, 190],\n",
      "         [ 60,  67, 229, ..., 187, 221, 186]]],\n",
      "\n",
      "\n",
      "       [[[ 40,  83,  21, ...,  99, 171, 198],\n",
      "         [ 41,  76,  53, ...,  84, 170, 198],\n",
      "         [ 38,  60, 110, ..., 112, 175, 197]],\n",
      "\n",
      "        [[ 18,  78,  20, ...,  94, 189, 202],\n",
      "         [ 21,  77,  51, ...,  81, 189, 202],\n",
      "         [ 26,  58, 106, ..., 110, 193, 201]],\n",
      "\n",
      "        [[ 16,  61,  22, ..., 107, 213, 212],\n",
      "         [ 17,  50,  52, ...,  94, 213, 211],\n",
      "         [ 23,  54, 106, ..., 123, 215, 210]],\n",
      "\n",
      "        ..., \n",
      "        [[ 23,  90,  79, ..., 167, 231, 203],\n",
      "         [ 29,  85, 147, ..., 166, 230, 200],\n",
      "         [ 45,  63, 210, ..., 171, 226, 196]],\n",
      "\n",
      "        [[ 35,  88, 125, ..., 172, 229, 198],\n",
      "         [ 42,  83, 181, ..., 171, 226, 194],\n",
      "         [ 44,  66, 230, ..., 176, 223, 191]],\n",
      "\n",
      "        [[ 72,  85, 178, ..., 185, 227, 195],\n",
      "         [ 69,  82, 218, ..., 184, 223, 190],\n",
      "         [ 53,  70, 254, ..., 189, 220, 187]]],\n",
      "\n",
      "\n",
      "       ..., \n",
      "       [[[ 86, 100,  88, ...,  99, 187, 233],\n",
      "         [ 81,  98, 162, ...,  94, 185, 226],\n",
      "         [ 75,  72, 237, ..., 110, 186, 228]],\n",
      "\n",
      "        [[ 87,  98,  89, ...,  96, 204, 230],\n",
      "         [ 82,  94, 163, ...,  91, 202, 224],\n",
      "         [ 71,  76, 238, ..., 109, 199, 225]],\n",
      "\n",
      "        [[ 82,  95,  84, ..., 108, 217, 228],\n",
      "         [ 79,  93, 156, ..., 103, 217, 223],\n",
      "         [ 65,  73, 230, ..., 124, 210, 221]],\n",
      "\n",
      "        ..., \n",
      "        [[104, 104,  62, ..., 210, 204, 198],\n",
      "         [104, 104, 142, ..., 207, 200, 196],\n",
      "         [ 87,  86, 227, ..., 204, 195, 190]],\n",
      "\n",
      "        [[104, 102,  67, ..., 206, 196, 184],\n",
      "         [105, 102, 144, ..., 202, 193, 183],\n",
      "         [ 81,  87, 226, ..., 200, 189, 177]],\n",
      "\n",
      "        [[103, 100,  74, ..., 203, 196, 189],\n",
      "         [105, 101, 145, ..., 197, 193, 187],\n",
      "         [ 78,  78, 225, ..., 199, 189, 182]]],\n",
      "\n",
      "\n",
      "       [[[ 84, 103,  88, ...,  94, 186, 231],\n",
      "         [ 86, 104, 164, ...,  91, 184, 226],\n",
      "         [ 64,  79, 240, ..., 103, 185, 228]],\n",
      "\n",
      "        [[ 86, 106,  87, ...,  94, 198, 229],\n",
      "         [ 79, 104, 160, ...,  91, 197, 224],\n",
      "         [ 72,  79, 237, ..., 104, 194, 225]],\n",
      "\n",
      "        [[ 82, 103,  88, ..., 110, 211, 227],\n",
      "         [ 76, 103, 159, ..., 107, 211, 223],\n",
      "         [ 72,  87, 237, ..., 121, 204, 222]],\n",
      "\n",
      "        ..., \n",
      "        [[110, 103,  60, ..., 219, 222, 195],\n",
      "         [103, 104, 141, ..., 218, 216, 194],\n",
      "         [ 84,  86, 230, ..., 215, 212, 186]],\n",
      "\n",
      "        [[106, 103,  61, ..., 218, 214, 181],\n",
      "         [105, 103, 141, ..., 215, 209, 181],\n",
      "         [ 85,  87, 228, ..., 212, 205, 173]],\n",
      "\n",
      "        [[106, 105,  65, ..., 212, 208, 186],\n",
      "         [104,  99, 143, ..., 209, 205, 183],\n",
      "         [ 86,  81, 226, ..., 209, 200, 177]]],\n",
      "\n",
      "\n",
      "       [[[ 85, 103,  84, ...,  88, 190, 230],\n",
      "         [ 88, 106, 160, ...,  87, 188, 226],\n",
      "         [ 68,  82, 238, ...,  94, 190, 227]],\n",
      "\n",
      "        [[ 89, 103,  81, ...,  85, 199, 230],\n",
      "         [ 82, 105, 154, ...,  84, 197, 226],\n",
      "         [ 72,  87, 233, ...,  93, 194, 227]],\n",
      "\n",
      "        [[ 85, 104,  87, ..., 105, 208, 229],\n",
      "         [ 79, 106, 158, ..., 103, 208, 225],\n",
      "         [ 67,  91, 238, ..., 114, 201, 226]],\n",
      "\n",
      "        ..., \n",
      "        [[111, 113,  63, ..., 217, 232, 190],\n",
      "         [104, 103, 144, ..., 217, 227, 190],\n",
      "         [ 87,  88, 235, ..., 214, 223, 181]],\n",
      "\n",
      "        [[109, 104,  62, ..., 221, 226, 178],\n",
      "         [105, 104, 143, ..., 220, 221, 177],\n",
      "         [ 86,  88, 232, ..., 219, 216, 169]],\n",
      "\n",
      "        [[103, 103,  63, ..., 218, 218, 181],\n",
      "         [106,  98, 145, ..., 217, 213, 178],\n",
      "         [ 79,  80, 231, ..., 218, 209, 171]]]], dtype=uint8), '__version__': '1.0', '__header__': 'MATLAB 5.0 MAT-file, Platform: GLNXA64, Created on: Mon Dec  5 21:09:26 2011', '__globals__': []}\n"
     ]
    }
   ],
   "source": [
    "import scipy.io as sio\n",
    "import numpy as np\n",
    "train_data = sio.loadmat('datos_p_2/train_32x32.mat')\n",
    "test_data = sio.loadmat('datos_p_2/test_32x32.mat')\n",
    "X_train = train_data['X'].T\n",
    "y_train = train_data['y'] - 1\n",
    "X_test = test_data['X'].T\n",
    "y_test = test_data['y'] - 1\n",
    "X_train = X_train.astype('float32')\n",
    "X_test = X_test.astype('float32')\n",
    "n_classes = len(np.unique(y_train))\n",
    "print np.unique(y_train)"
   ]
  },
  {
   "cell_type": "markdown",
   "metadata": {
    "collapsed": true
   },
   "source": [
    "## (b)\n",
    "Normalice las imagenes, dividiendo las intensidades originales de pixel por 255. Represente adecuadamente la salida deseada de la red de modo de tener un vector de tamaño igual al numero de clases."
   ]
  },
  {
   "cell_type": "code",
   "execution_count": null,
   "metadata": {
    "collapsed": true
   },
   "outputs": [],
   "source": [
    "from keras.utils import np_utils\n",
    "X_train /= 255\n",
    "X_test /= 255\n",
    "Y_train = np_utils.to_categorical(y_train, n_classes)\n",
    "Y_test = np_utils.to_categorical(y_test, n_classes)"
   ]
  },
  {
   "cell_type": "markdown",
   "metadata": {},
   "source": [
    "## (c)\n",
    "Defina una CNN con arquitectura C × P × C × P × F × F . Para la primera capa convolucional utilice 16 filtros de 5×5 y para la segunda 512 filtros de 7×7. Para la capa MLP escondida use 20 neuronas. Esta arquitectura, con algunas diferencias, fue una de las primera CNNs entrenadas sobre SVHN y consiguio una accuracy de 94.28% [11]. Genere un esquema lo m ́as compacto posible que muestre los cambios de forma que experimenta un patron de entrada a medida que se ejecuta un forward-pass. Entrene lared anterior un maximo de 10 epochs. ¿Logra mejorar o al menos igualar el resultado reportado en la literatura?"
   ]
  },
  {
   "cell_type": "code",
   "execution_count": null,
   "metadata": {
    "collapsed": true
   },
   "outputs": [],
   "source": [
    "from keras.models import Sequential\n",
    "from keras.layers.core import Dense, Dropout, Activation, Flatten\n",
    "from keras.layers.convolutional import Convolution2D, MaxPooling2D, AveragePooling2D\n",
    "from keras.optimizers import SGD, Adadelta, Adagrad\n",
    "model = Sequential()\n",
    "model.add(Convolution2D(16, 5, 5, border_mode='same', activation='relu',\n",
    "input_shape=(n_channels, n_rows, n_cols)))\n",
    "model.add(MaxPooling2D(pool_size=(2, 2)))\n",
    "model.add(Convolution2D(512, 7, 7, border_mode='same', activation='relu'))\n",
    "model.add(MaxPooling2D(pool_size=(2, 2)))\n",
    "model.add(Flatten())\n",
    "model.add(Dense(20, activation='relu'))\n",
    "model.add(Dense(n_classes, activation='softmax'))\n",
    "model.summary()\n",
    "model.compile(loss='binary_crossentropy', optimizer=adagrad, metrics=['accuracy'])\n",
    "adagrad = Adagrad(lr=0.01, epsilon=1e-08, decay=0.0)\n",
    "model.fit(X_train, Y_train, batch_size=1280, nb_epoch=12, verbose=1, \\\n",
    "validation_data=(X_test, Y_test))"
   ]
  },
  {
   "cell_type": "markdown",
   "metadata": {},
   "source": [
    "## (d)\n",
    "Evalue el efecto de modificar el tamano de los filtros (de convolucion y pooling) reportando la sensibilidad del error de pruebas a estos cambios. Presente un grafico o tabla resumen. Por simplicidad entre durante solo 10 epochs."
   ]
  },
  {
   "cell_type": "markdown",
   "metadata": {},
   "source": [
    "## (e)\n",
    "Evalue el efecto de modificar el numero de filtros para las capas convolucionales tanto en los tiempos de entrenamiento como en el desempeno de la red. Presente un gr ́afico o tabla resumen. Por simplicidad entre durante solo 10 epochs.\n"
   ]
  },
  {
   "cell_type": "markdown",
   "metadata": {},
   "source": [
    "## (f)\n",
    "Proponga una mejora sobre la red definida en (c) que mejore el error de pruebas. Recuerde que debe definir un subconjunto de validacion si necesita elegir entre arquitecturas."
   ]
  },
  {
   "cell_type": "markdown",
   "metadata": {},
   "source": [
    "## (g)\n",
    "Elija una de las redes entrenadas (preferentemente una con buen desempeno) y visualice los pesos correspondientes a los filtros de la primera capa convolucional. Visualice ademas el efecto del filtro sobre algunas imagenes de entrenamiento. Comente."
   ]
  },
  {
   "cell_type": "markdown",
   "metadata": {},
   "source": [
    "## (h)\n",
    "Elija una de las redes entrenadas en esta seccion y determine los pares de dıgitos (por ejemplo “1” con “7”) que la red tiende a confundir. Conjeture el motivo de tal confusion."
   ]
  },
  {
   "cell_type": "markdown",
   "metadata": {},
   "source": [
    "## (i)\n",
    "(Opcional, Bonus +10 en certamen) Evalue la conveniencia de utilizar todo el dataset (“extra 32x32.mat”) en el entrenamiento de la red."
   ]
  },
  {
   "cell_type": "code",
   "execution_count": null,
   "metadata": {
    "collapsed": true
   },
   "outputs": [],
   "source": []
  }
 ],
 "metadata": {
  "kernelspec": {
   "display_name": "Python 2",
   "language": "python",
   "name": "python2"
  },
  "language_info": {
   "codemirror_mode": {
    "name": "ipython",
    "version": 2
   },
   "file_extension": ".py",
   "mimetype": "text/x-python",
   "name": "python",
   "nbconvert_exporter": "python",
   "pygments_lexer": "ipython2",
   "version": "2.7.6"
  }
 },
 "nbformat": 4,
 "nbformat_minor": 2
}

{
 "cells": [
  {
   "cell_type": "markdown",
   "metadata": {},
   "source": [
    "# Análisis de Sentimientos usando RNN"
   ]
  },
  {
   "cell_type": "markdown",
   "metadata": {},
   "source": [
    "En esta sección se usara el dataset IMDB, con 50000 reviews de películas.\n",
    "Este dataset fue recolectado por investigadores de Stanford, los datos vienen como arreglo que contiene números que hacen referencia a palabras, ademas estos números son decrecientes mientras la frecuencia sea mayor, es decir, la palabra mas frecuente tendria un indice \"1\". solo se consideran las 10000 palabras mas comunes y se eliminarion las 20 mas comunes, reeplazandolas con \"0\" que son palabras no interesantes, podrian ser conectores o palabras conocidas como stopwords."
   ]
  },
  {
   "cell_type": "code",
   "execution_count": null,
   "metadata": {},
   "outputs": [],
   "source": [
    "import numpy as np\n",
    "from keras.datasets import imdb\n",
    "from matplotlib import pyplot\n",
    "from keras.preprocessing import sequence"
   ]
  },
  {
   "cell_type": "markdown",
   "metadata": {
    "collapsed": true
   },
   "source": [
    "### (a) Carga de datos."
   ]
  },
  {
   "cell_type": "code",
   "execution_count": null,
   "metadata": {
    "collapsed": true
   },
   "outputs": [],
   "source": [
    "np.random.seed(3)\n",
    "(X_train, y_train),(X_test,y_test) = imdb.load_data(seed=15)"
   ]
  },
  {
   "cell_type": "markdown",
   "metadata": {},
   "source": [
    "Se cargan todos los datos del dataset los 50000 comentarios, con longitudes diferentes y con todas las palabras diferenciadas, para ver comportamiento."
   ]
  },
  {
   "cell_type": "markdown",
   "metadata": {},
   "source": [
    "### (b) Comportamiento de datos, ¿Ley de Zipf?."
   ]
  },
  {
   "cell_type": "code",
   "execution_count": null,
   "metadata": {},
   "outputs": [],
   "source": [
    "# se unen los conjuntos de entrenamiento y de test\n",
    "X = np.concatenate((X_train,X_test),axis=0 )\n",
    "y = np.concatenate((y_train,y_test),axis=0 )\n",
    "from matplotlib import pyplot\n",
    "print(\"Review Length : \")\n",
    "# \n",
    "result = map(len,X)\n",
    "pyplot.boxplot(result)\n",
    "pyplot.show()"
   ]
  },
  {
   "cell_type": "markdown",
   "metadata": {},
   "source": [
    "En la grafica vemos las longitudes de los comentarios, podemos ver que se concentran entre las 0 y 500 palabras por comentarios(primeros 3 cuartiles), donde la media esta aproximadamente entre las 200 y 300 palabras  y lugo que el ultimo cuartil se concentra con muchos datos entre 500 y 1000, bajando su frecuencia hasta llegar a comentarios de longitud de 2500 palabras.\n"
   ]
  },
  {
   "cell_type": "markdown",
   "metadata": {},
   "source": [
    "Separando por catgoria, recordar, solo toma valores 0 o 1, negativa o positiva"
   ]
  },
  {
   "cell_type": "code",
   "execution_count": null,
   "metadata": {
    "scrolled": true
   },
   "outputs": [],
   "source": [
    "print y\n",
    "positiva = []\n",
    "negativa = []\n",
    "i=0\n",
    "for comentario in X :\n",
    "    if int(y[i]) == 1 :\n",
    "        positiva.append(comentario)\n",
    "    if int(y[i]) == 0 :\n",
    "        negativa.append(comentario)\n",
    "    i=1+i\n",
    "\n",
    "positivas= map(len,positiva)\n",
    "pyplot.boxplot(positivas)\n",
    "print(\"positivas\")\n",
    "pyplot.show()\n",
    "negativas= map(len,negativa)\n",
    "pyplot.boxplot(negativas)\n",
    "print(\"negativas\")\n",
    "pyplot.show()"
   ]
  },
  {
   "cell_type": "markdown",
   "metadata": {},
   "source": [
    "Al separar por categoria, podemos ver que los comentarios negativos, tiene concentrado los primeros tres cuartiles entre 0 y 600 palabras, y luego un cuarto cuartil concentrado entre 600 y 1200, con el valor mas alejado en 1600 palabras en un comentario.\n",
    "Las positivas se comportan practicamente igual que la que contiene todos los comentarios.\n",
    "Pero para poder hablar de ley de Zipf necesitamos tener una referencia de los vocabularios usados y no de la longitud de los comentarios que por su concentracion en comentarios inferiores a las 500 palabras.\n",
    "\n"
   ]
  },
  {
   "cell_type": "code",
   "execution_count": null,
   "metadata": {},
   "outputs": [],
   "source": [
    "import collections\n",
    "import matplotlib.pyplot as plt\n",
    "i=0\n",
    "print(\"ley de Zipf\")\n",
    "for comenatario in X:\n",
    "    a=collections.Counter(comentarios)\n",
    "    plt.bar(range(len(a)),a.values(),align='center')\n",
    "    plt.xticks(range(len(a)),a.keys())\n",
    "    plt.show()\n",
    "    i=i+1\n",
    "    if i == 11 :\n",
    "        break\n"
   ]
  },
  {
   "cell_type": "markdown",
   "metadata": {},
   "source": [
    "### (c) Datos para entrenamiento, 3000 palabras relevantes y largo fijo en 500 palabras por comentario."
   ]
  },
  {
   "cell_type": "code",
   "execution_count": null,
   "metadata": {
    "collapsed": true
   },
   "outputs": [],
   "source": []
  },
  {
   "cell_type": "code",
   "execution_count": null,
   "metadata": {
    "collapsed": true
   },
   "outputs": [],
   "source": []
  },
  {
   "cell_type": "markdown",
   "metadata": {},
   "source": [
    "### (d) Entrenamiento red LSTM."
   ]
  },
  {
   "cell_type": "code",
   "execution_count": null,
   "metadata": {
    "collapsed": true
   },
   "outputs": [],
   "source": []
  },
  {
   "cell_type": "markdown",
   "metadata": {},
   "source": [
    "### (e) Pruebas variando dimensionalidad del embedding inicial."
   ]
  },
  {
   "cell_type": "code",
   "execution_count": null,
   "metadata": {
    "collapsed": true
   },
   "outputs": [],
   "source": []
  },
  {
   "cell_type": "markdown",
   "metadata": {},
   "source": [
    "### (f) Pruebas variando el número de palabras mas frecuentes."
   ]
  },
  {
   "cell_type": "code",
   "execution_count": null,
   "metadata": {
    "collapsed": true
   },
   "outputs": [],
   "source": []
  },
  {
   "cell_type": "markdown",
   "metadata": {},
   "source": [
    "### (g) Prueba uso de Dropout"
   ]
  },
  {
   "cell_type": "code",
   "execution_count": null,
   "metadata": {
    "collapsed": true
   },
   "outputs": [],
   "source": []
  },
  {
   "cell_type": "markdown",
   "metadata": {},
   "source": [
    "### (h) Propuesta"
   ]
  },
  {
   "cell_type": "code",
   "execution_count": null,
   "metadata": {
    "collapsed": true
   },
   "outputs": [],
   "source": []
  }
 ],
 "metadata": {
  "kernelspec": {
   "display_name": "Python 2",
   "language": "python",
   "name": "python2"
  },
  "language_info": {
   "codemirror_mode": {
    "name": "ipython",
    "version": 2
   },
   "file_extension": ".py",
   "mimetype": "text/x-python",
   "name": "python",
   "nbconvert_exporter": "python",
   "pygments_lexer": "ipython2",
   "version": "2.7.12"
  }
 },
 "nbformat": 4,
 "nbformat_minor": 2
}

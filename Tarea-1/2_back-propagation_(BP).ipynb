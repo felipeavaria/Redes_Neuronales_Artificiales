{
 "cells": [
  {
   "cell_type": "markdown",
   "metadata": {
    "deletable": true,
    "editable": true
   },
   "source": [
    "#### Pregunta 2:\n",
    "## Back-propagation (BP) from Scratch"
   ]
  },
  {
   "cell_type": "markdown",
   "metadata": {},
   "source": [
    "A continuación, se definen las funciones de activación y pérdida y auxiliares a utilizar en la red FF a definir.\n",
    "\n",
    "Activación de la capa Oculta: Sigmoid\n",
    "\\begin{align}\n",
    "\\sigma(z) & = \\frac{1}{1+e^{-z}} \\\\\n",
    "          & = \\frac{e^{z}}{1+e^{z}} \\\\\n",
    "\\sigma'(z) & = \\sigma(z)(1-\\sigma(z)) \\\\\n",
    "\\end{align}\n",
    "                              \n",
    "Activación capa Salida: Softmax\n",
    "\\begin{align}\n",
    "\\sigma(\\mathbf{z})_j & = \\frac{e^{z_j}}{\\sum_{i} e^{z_i}} \\\\\n",
    "\\sigma'(\\mathbf{z})_j & = \\sigma(\\mathbf{z})_j(1-\\sigma(\\mathbf{z})_j) \\\\\n",
    "\\end{align}\n",
    "\n",
    "Función de pérdida (func. objetivo): Cross Entropy\n",
    "\n",
    "\\begin{align}\n",
    "L(y_p,y_t) & = \\sum_{j}(y_{t_j}ln(y_{p_j}) + (1-y_{t_j})ln(1-y_{p_j})) \\\\\n",
    "\\dfrac{\\partial L}{\\partial y_p} & = \\frac{y_t-y_p}{y_p(1-y_p)} \\\\\n",
    "\\end{align}"
   ]
  },
  {
   "cell_type": "code",
   "execution_count": 10,
   "metadata": {
    "collapsed": false,
    "deletable": true,
    "editable": true
   },
   "outputs": [],
   "source": [
    "import numpy as np\n",
    "\n",
    "#definicion sigmoid para capa oculta\n",
    "def sigmoid(x):\n",
    "    return np.exp(x)/(1+np.exp(x))\n",
    "\n",
    "#derivada de la sigmoidal\n",
    "def grad_sigmoid(x):\n",
    "    g = sigmoid(x)\n",
    "    return g*(1-g)\n",
    "\n",
    "#definicion linear para capa oculta (alternativa)\n",
    "def linear(x):\n",
    "    return x\n",
    "#derivada de la lineal (alternativa)\n",
    "def grad_linear(x):\n",
    "    return (x+1)/(x+1) #vector de 1s. Se suma 1 para evitar posibles divisiones por cero\n",
    "\n",
    "#definicion softmax para capa de salida\n",
    "def softmax(vector_x):\n",
    "    e = np.exp(np.array(vector_x))\n",
    "    return e/np.sum(e)\n",
    "#gradiente de softmax\n",
    "def grad_softmax(vector_x):\n",
    "    g = softmax(vector_x)\n",
    "    return g*(1-g)   \n",
    "\n",
    "#definicion cross entropy como función de pérdida (NECESITA VECTORES ESCALADOS EN EL INTERVALO [0, 1])\n",
    "def cross_entropy(predicted_vectors, true_vectors):\n",
    "    predicted_vectors = np.maximum(1e-15,predicted_vectors)\n",
    "    return -(1.0/len(true_vectors))*np.sum(np.sum((true_vectors*np.log(predicted_vectors) + (1-true_vectors)*np.log(1-predicted_vectors))))\n",
    "    #return sum((true_vector*np.log(predicted_vector) + (1-true_vector)*np.log(1-predicted_vector)))\n",
    "\n",
    "#gradiente de cross entropy (respecto a predicted_vector)(NECESITA VECTORES ESCALADOS EN EL INTERVALO [0, 1])\n",
    "def grad_cross_entropy(predicted_vector, true_vector):\n",
    "    predicted_vector = np.maximum(1e-15,predicted_vector)\n",
    "    return -1.0*(true_vector-predicted_vector)/np.dot(predicted_vector,(1-predicted_vector))\n",
    "\n",
    "#definicion de transformador de vector al tipo one-hot (para salida softmax). Se usará en el método clasificar()\n",
    "def onehot(input_v):\n",
    "    output_v = []\n",
    "    for elem in input_v:        \n",
    "        if(elem < np.max(input_v)):\n",
    "            output_v.append(0)\n",
    "        else:\n",
    "            output_v.append(1)\n",
    "    return output_v\n",
    "        "
   ]
  },
  {
   "cell_type": "markdown",
   "metadata": {},
   "source": [
    "A continuación, se define la clase red_ff, cuyo constructor inicializa los pesos de la red con valores float aleatorios entre 0.0 y 1.0. Así también, son definidos los métodos forward_pass, medir_error, backward_pass, que constituyen los métodos necesarios para el entrenamiento de la red.\n",
    "\n",
    "La rutina de entrenamiento (definida dentro de la clase) toma el conjunto de entrenamiento (X, y) y lo itera por completo y en orden aleatorio, aplicando forward pass y luego backward pass a cada uno. Este procedimiento se hace tantas veces como epochs se indiquen, y con cada epoch terminado se guarda el valor de la función de pérdida resultante y el porcentaje de error de clasificación que la red experimentó en esa iteración, retornándolos al finalizar el entrenamiento.\n",
    "\n",
    "El orden aleatorio del recorrido de los ejemplos es porque se sospechaba que el iterar sobre el ejemplo ordenado (por clases, pues así viene por defecto en las semillas utilizadas) afectaba al entrenamiento, al menos en los primeros epochs. Esto pues, para las primera parte de la iteración (sólo ejemplos de la clase 1), los pesos que beneficiaban esa salida eran muy priorizados en comparación al resto, generando overfitting de forma precoz. Cuando se empezaba a iterar sobre los ejemplos de la clase 2 en el mismo epoch, el aprendizaje tendía a ser más errático (backward passes bien grandes). Sin embargo, con el entrenamiento suficiente, ambas formas de recorrer el conjunto de entrenamiento deberían converger a algún óptimo. Esto se menciona, pero no se probó de forma empírica, pues no se pidió y se escapa del alcance del ítem.\n",
    "\n",
    "El método clasificar toma el conjunto de inputs (que debe ser previamente vectorizado), aplica un forward pass por cada input, y retorna una clasificación para cada uno, en forma vectorizada y one-hot, esto para transformar las probabilidades de la salida de la red a un vector que representa la clasificación como tal."
   ]
  },
  {
   "cell_type": "code",
   "execution_count": 3,
   "metadata": {
    "collapsed": false,
    "deletable": true,
    "editable": true
   },
   "outputs": [],
   "source": [
    "class red_ff:    \n",
    "    def __init__(self, I, H, O):\n",
    "        self.pesos_capa_entrada, self.pesos_capa_oculta = self.inicializar_pesos(I, H, O)\n",
    "    \n",
    "    def inicializar_pesos(self, tamano_entrada, tamano_capa_oculta, tamano_capa_salida):\n",
    "        pce = []\n",
    "        pco = []\n",
    "        #version simple\n",
    "        pce = np.array([[1.0]*tamano_capa_oculta]*(tamano_entrada+1)) #el +1 es para incluir el bias en la matriz peso y en el vector entrada\n",
    "        pco = np.array([[1.0]*tamano_capa_salida]*(tamano_capa_oculta+1)) #el +1 es para incluir el bias de la matriz pesos capa oculta\n",
    "        #TO DO: proponer inicializacion mas apropiada\n",
    "        #version de asignar random entre 0.0 y 1.0 a cada peso de las matrices\n",
    "        import random\n",
    "        for i in range(len(pce)):\n",
    "            for j in range(len(pce[i])):\n",
    "                pce[i][j] = random.random()\n",
    "        for i in range(len(pco)):\n",
    "            for j in range(len(pco[i])):\n",
    "                pco[i][j] = random.random()\n",
    "        return pce, pco\n",
    "    \n",
    "    def forward_pass(self, vector_ejemplo, clase_ejemplo):\n",
    "        self.activaciones_capa_oculta = sigmoid(np.dot(np.transpose(self.pesos_capa_entrada), np.append(vector_ejemplo, 1)))\n",
    "        #self.activaciones_capa_oculta = linear(np.dot(np.transpose(self.pesos_capa_entrada), np.append(vector_ejemplo, 1)))\n",
    "        self.activaciones_capa_salida = softmax(np.dot(np.transpose(self.pesos_capa_oculta), np.append(self.activaciones_capa_oculta, 1)))\n",
    "        #gradientes de las activaciones\n",
    "        self.gradientes_activaciones_capa_oculta = grad_sigmoid(self.activaciones_capa_oculta)\n",
    "        #self.gradientes_activaciones_capa_oculta = grad_linear(self.activaciones_capa_oculta)\n",
    "        self.gradientes_activaciones_capa_salida = grad_softmax(self.activaciones_capa_salida)\n",
    "        \"\"\"print \"a_h:\"\n",
    "        print self.activaciones_capa_oculta\n",
    "        print \"(a_h)':\"\n",
    "        print self.gradientes_activaciones_capa_oculta\"\"\"\n",
    "        #print \"yo:\"\n",
    "        #print self.activaciones_capa_salida\n",
    "        \"\"\"print \"(yo)':\"\n",
    "        print self.gradientes_activaciones_capa_salida\"\"\"\n",
    "    \n",
    "    def medir_error(self, clases_predichas, clases_ejemplo): #devuelve el valor de la func. objetivo\n",
    "        return cross_entropy(clases_predichas, clases_ejemplo)\n",
    "    \n",
    "    def backward_pass(self, tasa_aprend, vector_ejemplo, clase_ejemplo):\n",
    "        #dEdyo arreglo de tamaño O\n",
    "        dEdyo = grad_cross_entropy(self.activaciones_capa_salida, clase_ejemplo)\n",
    "        #print \"dEdyo:\"\n",
    "        #print dEdyo\n",
    "        #dEdzo arreglo tamaño O\n",
    "        dEdzo = dEdyo*self.gradientes_activaciones_capa_salida.copy()\n",
    "        #dEdwj arreglo tamaño H\n",
    "        #dEdwj = self.activaciones_capa_oculta*dEdzo\n",
    "        dEdyh = []\n",
    "        #dEdWo matriz de gradientes del error E respecto de la matriz de pesos de salida Wo\n",
    "        dEdWo = []\n",
    "        #ciclo for se repite H veces\n",
    "        for i in range(len(self.activaciones_capa_oculta)):\n",
    "            dEdyh.append(np.sum(self.pesos_capa_oculta[i]*dEdzo.copy()))\n",
    "            dEdWo.append(self.gradientes_activaciones_capa_oculta[i]*dEdzo.copy())\n",
    "        #iteracion adicional para dEdWo: agregar ultima fila igual a 1*dEdzo. Esto es para considerar el bias\n",
    "        dEdWo.append(dEdzo)\n",
    "        dEdyh = np.array(dEdyh)\n",
    "        dEdWo = np.array(dEdWo)\n",
    "        #dEdyh arreglo de tamaño H\n",
    "        #dEdWo matriz de tamaño (H+1) x O\n",
    "        #corrección de matriz de pesos Wo (matriz de pesos entre la capa oculta y la de salida)\n",
    "        self.pesos_capa_oculta -= tasa_aprend*dEdWo\n",
    "        #a partir de aqui se corregira la matriz de pesos de la capa de entrada Wi\n",
    "        #dEdzi arreglo de tamaño H\n",
    "        dEdzi = dEdyh*self.gradientes_activaciones_capa_oculta.copy()\n",
    "        dEdWi = []\n",
    "        #iteracion sobre dEdzi. Se repite H veces\n",
    "        for val in dEdzi:\n",
    "            dEdWi.append(val*np.append(vector_ejemplo, 1))\n",
    "        #dEdWi matriz de tamaño H x (d+1), d: dimension de la entrada, el +1 es por el bias\n",
    "        #se transpone para coincidir con la matriz de pesos ((d+1 x H)\n",
    "        dEdWi = np.transpose(np.array(dEdWi))\n",
    "        #correccion de matriz de pesos Wi\n",
    "        self.pesos_capa_entrada -= tasa_aprend*dEdWi\n",
    "    \n",
    "    def entrenar(self, conjunto_x, conjunto_y, tasa_aprendizaje, epochs):\n",
    "        #rutina de entrenamiento\n",
    "        if(len(conjunto_x) != len(conjunto_y)):\n",
    "            print \"Conjunto de entrenamiento incorrecto.\"\n",
    "            return\n",
    "        #los pesos se inicializan en el constructor de la clase red_ff\n",
    "        error_per_epoch = []\n",
    "        loss_per_epoch = []\n",
    "        train_set = []\n",
    "        for i in range(len(conjunto_x)):\n",
    "            train_set.append((conjunto_x[i],conjunto_y[i]))\n",
    "        \n",
    "        for i in range(epochs):\n",
    "            np.random.shuffle(train_set) #ejemplos ya no estan ordenados por clase (sospecho que afectaba el entrenamiento)       \n",
    "            outputs = []\n",
    "            for x_train, y_train in train_set:\n",
    "                self.forward_pass(x_train, y_train)\n",
    "                outputs.append(self.activaciones_capa_salida)\n",
    "                #no se chequea error E como criterio de parada\n",
    "                #print \"Error total epoch \"+str(i+1)+\", ejemplo \"+str(j)+\": \"+str(self.medir_error(y_train))\n",
    "                self.backward_pass(tasa_aprendizaje, x_train, y_train)            \n",
    "            loss_per_epoch.append(self.medir_error(np.array(outputs),np.array(conjunto_y)))            \n",
    "            #print loss_per_epoch\n",
    "            a,b,c = self.clasificar(conjunto_x, conjunto_y)\n",
    "            error_per_epoch.append(1.0-b)\n",
    "            #print b\n",
    "            #print \"Loss epoch \"+str(i+1)+\": \"+str(loss_per_epoch[-1])\n",
    "            #print \"Accuracy epoch \"+str(i+1)+\": \"+str(float(np.sum(b))/len(b))\n",
    "        return loss_per_epoch, error_per_epoch\n",
    "                \n",
    "    def clasificar(self, x_test, y_test):\n",
    "        test_set = []\n",
    "        for i in range(len(x_test)):\n",
    "            test_set.append((x_test[i],y_test[i]))\n",
    "        y_pred = []\n",
    "        prediccion_correcta = 0\n",
    "        loss_func = []\n",
    "        for x_t,y_t in test_set:\n",
    "            self.forward_pass(x_t,y_t)\n",
    "            y_pred.append(onehot(self.activaciones_capa_salida))            \n",
    "            if(y_pred[-1]==y_t.tolist()): #si la clasificacion predicha es correcta:\n",
    "                prediccion_correcta += 1\n",
    "            loss_func.append(self.medir_error(self.activaciones_capa_salida,y_t))\n",
    "        \"\"\"for i in range(len(y_pred)):\n",
    "            for j in range(len(y_pred[0])):\n",
    "                if (y_pred[i][j]!=y_test[i][j]):\n",
    "                    continue\n",
    "                else:\n",
    "                    prediccion_correcta += 1\"\"\"\n",
    "\n",
    "        prediccion_correcta = float(prediccion_correcta)/len(y_pred)\n",
    "        \n",
    "        return y_pred, prediccion_correcta, loss_func"
   ]
  },
  {
   "cell_type": "markdown",
   "metadata": {},
   "source": [
    "A continuación, se genera el conjunto de entrenamiento para poner en marcha la red.\n",
    "El conjunto X_train es un arreglo de vectores de largo 7. Esto es, el input de la red es de dimensión 7. También, se procede a escalar X_train usando StandardScaler, que hace que la media del conjunto sea igual a cero, y su varianza 1. Este preprocesamiento es recomendable, pues propicia un aprendizaje de mejor comportamiento, al impedir que aparezcan números muy grandes que puedan contribuir a la saturación temprana de la red.\n",
    "y_train no viene vectorizado por defecto, por lo que se transforma a vectores one-hot antes de usarlos en la rutina de entrenamiento."
   ]
  },
  {
   "cell_type": "code",
   "execution_count": 4,
   "metadata": {
    "collapsed": true,
    "deletable": true,
    "editable": true
   },
   "outputs": [],
   "source": [
    "#from sklearn.preprocessing import MinMaxScaler\n",
    "from sklearn.preprocessing import StandardScaler\n",
    "import pandas as pd\n",
    "url = 'http://archive.ics.uci.edu/ml/machine-learning-databases/00236/seeds_dataset.txt'\n",
    "df = pd.read_csv(url, sep=r'\\s+',header=None)\n",
    "X_train = df.ix[: ,0:6]\n",
    "y_train = df.ix[:,7]"
   ]
  },
  {
   "cell_type": "code",
   "execution_count": 5,
   "metadata": {
    "collapsed": false,
    "deletable": true,
    "editable": true
   },
   "outputs": [],
   "source": [
    "#X_train = MinMaxScaler().fit_transform(X_train)\n",
    "scaler = StandardScaler().fit(X_train)\n",
    "X_train = scaler.transform(X_train)\n",
    "\n",
    "y_train_vec = []\n",
    "for clase in y_train:\n",
    "    if(clase==np.int64(1)):\n",
    "        y_train_vec.append([1,0,0])\n",
    "    elif(clase==np.int64(2)):\n",
    "        y_train_vec.append([0,1,0])\n",
    "    elif(clase==np.int64(3)):\n",
    "        y_train_vec.append([0,0,1])\n",
    "    else:\n",
    "        print \"Error: hay mas de 3 clases\"\n",
    "        "
   ]
  },
  {
   "cell_type": "markdown",
   "metadata": {},
   "source": [
    "Finalmente, se crea una red instanciando la clase definida. Como se mencionó anteriormente, la dimensión de la entrada será igual a 7, y la salida de dimensión 3, pues existen 3 clases. Se define la capa oculta para que posea 20 neuronas. Se experimentó con cantidades distintas de neuronas, pero no generaron mayor mejora en el rendimiento del aprendizaje del que lo hizo la variación del learning rate (resultados de rendimiento no se exponen, pues se escapan del alcance de la actividad). \n",
    "Inmediatamente después, se pone a entrenar la red con el conjunto de entrenamiento definido en el bloque anterior, usando un learning rate de 0.005, y 100 epochs. Se captura el loss por epoch y el porcentaje de error de clasificación de cada epoch en las variables loss y error, respectivamente."
   ]
  },
  {
   "cell_type": "code",
   "execution_count": 11,
   "metadata": {
    "collapsed": false,
    "deletable": true,
    "editable": true
   },
   "outputs": [],
   "source": [
    "red = red_ff(7, 20, 3)\n",
    "\n",
    "loss, error = red.entrenar(np.array(X_train), np.array(y_train_vec), 0.005, 100)"
   ]
  },
  {
   "cell_type": "markdown",
   "metadata": {},
   "source": [
    "Luego, podemos ver gráficamente el comportamiento de la red a medida que se entrena. En el primer gráfico, se puede ver el loss versus la cantidad de epochs, y en el segundo se aprecia el porcentaje de errores en la clasificación durante el entrenamiento, versus la cantidad de epochs. Es extraño notar que, si bien el loss no tiende a decrecer con la cantidad de epochs, sí lo hace el porcentaje de error de clasificación. También, a partir del epoch 90, aproximadamente, el error de clasificación comienza a crecer."
   ]
  },
  {
   "cell_type": "code",
   "execution_count": 12,
   "metadata": {
    "collapsed": false,
    "deletable": true,
    "editable": true
   },
   "outputs": [
    {
     "data": {
      "image/png": "[encoded data removed]",
      "text/plain": [
       "<matplotlib.figure.Figure at 0x7f70bc508f90>"
      ]
     },
     "metadata": {},
     "output_type": "display_data"
    },
    {
     "data": {
      "image/png": "[encoded data removed]",
      "text/plain": [
       "<matplotlib.figure.Figure at 0x7f708c98a9d0>"
      ]
     },
     "metadata": {},
     "output_type": "display_data"
    }
   ],
   "source": [
    "import matplotlib.pyplot as plt\n",
    "plt.plot(range(100), loss)\n",
    "plt.xlabel('Epochs')\n",
    "plt.ylabel('Loss')\n",
    "#plt.ylim(0,0.7)\n",
    "plt.show()\n",
    "plt.clf()\n",
    "\n",
    "#plt.figure(figsize=(12,6))\n",
    "plt.title(\"Error de clasif.\")\n",
    "plt.plot(range(100),error)\n",
    "plt.xlabel('Epochs')\n",
    "plt.ylabel('Error')\n",
    "#plt.ylim(0,0.7)\n",
    "plt.show()"
   ]
  },
  {
   "cell_type": "markdown",
   "metadata": {},
   "source": [
    "Si bien se revisó tanto la implementación de la función de pérdida como su uso en el método clasificar(), no se encontró ningún error que pudiera explicar el crecimiento del loss.\n",
    "\n",
    "Descartando errores en la implementación de la función de pérdida, y considerando, además, el crecimiento del error de clasificación al final del entrenamiento, concluímos que el comportamiento de la red es divergente.\n",
    "\n",
    "Es importante mencionar que, para lograr resultados en la rutina de entrenamiento, se tuvo que añadir casos de borde a las definiciones de la función de pérdida cross_entropy() y grad_cross_entropy(). Estos casos consideraban, para todo elemento del vector predicho, que éstos no fueran más cercanos al cero que 10^-15, y en caso de serlo, se les asignaba ese valor. Esta consideración fue incluida para evitar que los números se salieran de su límite de precisión y que éstos fueran aproximados a cero, lo cual indefinía las funciones de pérdida y su gradiente de forma explosiva, saturando por completo la red. La búsqueda y hallazgo de esta limitación nos costó días, pues no existían indicios que nos permitieran sospechar sobre ella, ni siquiera en la comunidad Web.\n",
    "\n",
    "A pesar de haber agregado la consideración mencionada, encontramos que la red diverge si el learning rate es mayor del orden de las milésimas. Creemos que el uso de funciones logarítmicas influyeron de forma inesperada en este comportamiento. Podría solucionarse la divergencia agregando más consideraciones similares en pasos en los que exista riesgo de explosión en los parámetros, aunque, insistimos, esto no debería ser necesario, pues se revisó toda la implementación, tanto de forward como backward pass, y se re escribió este último varias veces buscando corregir errores de planteamiento, lo cual no dio resultado hasta haber considerado el caso borde mencionado."
   ]
  },
  {
   "cell_type": "markdown",
   "metadata": {
    "collapsed": false,
    "deletable": true,
    "editable": true
   },
   "source": [
    "Weight decay"
   ]
  }
 ],
 "metadata": {
  "kernelspec": {
   "display_name": "Python 2",
   "language": "python",
   "name": "python2"
  },
  "language_info": {
   "codemirror_mode": {
    "name": "ipython",
    "version": 2
   },
   "file_extension": ".py",
   "mimetype": "text/x-python",
   "name": "python",
   "nbconvert_exporter": "python",
   "pygments_lexer": "ipython2",
   "version": "2.7.12"
  }
 },
 "nbformat": 4,
 "nbformat_minor": 2
}

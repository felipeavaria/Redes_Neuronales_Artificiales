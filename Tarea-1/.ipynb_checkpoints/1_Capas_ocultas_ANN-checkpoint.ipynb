{
 "cells": [
  {
   "cell_type": "markdown",
   "metadata": {},
   "source": [
    "#### Pregunta 1:\n",
    "## Rol de las Capas Ocultas de una ANN"
   ]
  },
  {
   "cell_type": "markdown",
   "metadata": {},
   "source": [
    "Como hemos discutido en clases, el modelo de neurona utilizando en la mayorı́a de las redes neuronales artificiales corresponde esencialmente a un discriminante lineal sobre el espacio original de atributos. Por lo tanto, si se entrena una neurona para resolver un problema cuya solución no es una función lineal de esos atributosdebiésemos esperar un pobre rendimiento del modelo en la tarea. Un p erceptrón multicapas en cambio agrega un nivel adicional de procesamiento entrenado para aprender automáticamente una representación adecuada al problema. En esta sección experimentaremos esta idea revisando un problema de juguete denominado Moons."
   ]
  },
  {
   "cell_type": "markdown",
   "metadata": {},
   "source": [
    "### (a) "
   ]
  },
  {
   "cell_type": "code",
   "execution_count": null,
   "metadata": {
    "collapsed": true
   },
   "outputs": [],
   "source": []
  }
 ],
 "metadata": {
  "kernelspec": {
   "display_name": "Python 2",
   "language": "python",
   "name": "python2"
  },
  "language_info": {
   "codemirror_mode": {
    "name": "ipython",
    "version": 2
   },
   "file_extension": ".py",
   "mimetype": "text/x-python",
   "name": "python",
   "nbconvert_exporter": "python",
   "pygments_lexer": "ipython2",
   "version": "2.7.12"
  }
 },
 "nbformat": 4,
 "nbformat_minor": 2
}
